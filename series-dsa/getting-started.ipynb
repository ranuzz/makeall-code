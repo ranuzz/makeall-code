{
 "cells": [
  {
   "cell_type": "markdown",
   "id": "84ae2f36",
   "metadata": {},
   "source": [
    "# Getting Started | makeall.dev | DSA Series"
   ]
  },
  {
   "cell_type": "markdown",
   "id": "2cfdaec3",
   "metadata": {},
   "source": [
    "## Reading Input Data\n",
    "\n",
    "In most cases the number of `stdin` lines are known beforehand or given as parameters in the very first line. Also, the number of values per line are supposed to be predefined and the values are separated by spaces. There are two prefered ways to get the data in the application.\n"
   ]
  },
  {
   "cell_type": "markdown",
   "id": "7032c20a",
   "metadata": {},
   "source": [
    "### Using input()"
   ]
  },
  {
   "cell_type": "code",
   "execution_count": 11,
   "id": "aa286f4d",
   "metadata": {},
   "outputs": [
    {
     "name": "stdout",
     "output_type": "stream",
     "text": [
      "1 2\n",
      "1 2\n"
     ]
    }
   ],
   "source": [
    "val1, val2 = input().split(' ')\n",
    "print(val1, val2)"
   ]
  },
  {
   "cell_type": "markdown",
   "id": "eba80143",
   "metadata": {},
   "source": [
    "### Using sys.stdin"
   ]
  },
  {
   "cell_type": "code",
   "execution_count": 8,
   "id": "0e3fd676",
   "metadata": {},
   "outputs": [
    {
     "data": {
      "text/plain": [
       "\"\\nimport sys\\n\\nfor line in sys.stdin:\\n    val1, val2 = line.split(' ')\\n\""
      ]
     },
     "execution_count": 8,
     "metadata": {},
     "output_type": "execute_result"
    }
   ],
   "source": [
    "# This code won't execute here\n",
    "\n",
    "\"\"\"\n",
    "import sys\n",
    "\n",
    "for line in sys.stdin:\n",
    "    val1, val2 = line.split(' ')\n",
    "\"\"\""
   ]
  },
  {
   "cell_type": "markdown",
   "id": "4dfd6384",
   "metadata": {},
   "source": [
    "### Outputting Data"
   ]
  },
  {
   "cell_type": "code",
   "execution_count": 12,
   "id": "7d3d74eb",
   "metadata": {},
   "outputs": [
    {
     "name": "stdout",
     "output_type": "stream",
     "text": [
      "1 2\n",
      "val1(1) : val2(2)\n"
     ]
    }
   ],
   "source": [
    "# without formatting\n",
    "print(val1, val2)\n",
    "\n",
    "# with formatting\n",
    "print(\"val1({0}) : val2({1})\".format(val1, val2))"
   ]
  },
  {
   "cell_type": "markdown",
   "id": "c768cfa9",
   "metadata": {},
   "source": [
    "### Type casting\n",
    "Data capture and outputted ultimately as string. Type conversion is required wherever necessary with appropriate validation check."
   ]
  },
  {
   "cell_type": "code",
   "execution_count": 15,
   "id": "2121aafa",
   "metadata": {},
   "outputs": [
    {
     "name": "stdout",
     "output_type": "stream",
     "text": [
      "data: 200, type, <class 'int'>\n",
      "data: 2.5, type, <class 'float'>\n",
      "data: xyz, type, <class 'str'>\n"
     ]
    }
   ],
   "source": [
    "indata = \"200\"\n",
    "i = int(indata)\n",
    "print(\"data: {0}, type, {1}\".format(i, type(i)))\n",
    "\n",
    "indata = \"2.500\"\n",
    "f = float(indata)\n",
    "print(\"data: {0}, type, {1}\".format(f, type(f)))\n",
    "\n",
    "indata = \"xyz\"\n",
    "s = str(indata)\n",
    "print(\"data: {0}, type, {1}\".format(s, type(s)))"
   ]
  },
  {
   "cell_type": "markdown",
   "id": "0fbcdf22",
   "metadata": {},
   "source": [
    "### Serialization & Deserialization\n",
    "In some cases it makes more sense to represent the data structure to input as a string ready for deserialization. for example representing a binary tree as a list of numbers and null in between"
   ]
  },
  {
   "cell_type": "code",
   "execution_count": 17,
   "id": "8f6661f8",
   "metadata": {},
   "outputs": [
    {
     "data": {
      "text/plain": [
       "'\\n    1\\n /    null   1\\n'"
      ]
     },
     "execution_count": 17,
     "metadata": {},
     "output_type": "execute_result"
    }
   ],
   "source": [
    "tree = \"[1, null, 1]\"\n",
    "\n",
    "\"\"\"\n",
    "    1\n",
    " /    \\\n",
    "null   1\n",
    "\"\"\""
   ]
  }
 ],
 "metadata": {
  "kernelspec": {
   "display_name": "Python 3",
   "language": "python",
   "name": "python3"
  },
  "language_info": {
   "codemirror_mode": {
    "name": "ipython",
    "version": 3
   },
   "file_extension": ".py",
   "mimetype": "text/x-python",
   "name": "python",
   "nbconvert_exporter": "python",
   "pygments_lexer": "ipython3",
   "version": "3.8.5"
  }
 },
 "nbformat": 4,
 "nbformat_minor": 5
}
