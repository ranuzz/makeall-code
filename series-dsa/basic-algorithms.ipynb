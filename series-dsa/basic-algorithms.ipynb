{
 "cells": [
  {
   "cell_type": "markdown",
   "id": "b33f32a7",
   "metadata": {},
   "source": [
    "## Basic Algorithms\n",
    "\n",
    "Before we dive into more complex datastructure and problem solving approaches let's cover a few basic algorithms baked into Python."
   ]
  },
  {
   "cell_type": "markdown",
   "id": "7596bccd",
   "metadata": {},
   "source": [
    "## String Manipulation"
   ]
  },
  {
   "cell_type": "code",
   "execution_count": 9,
   "id": "ae73dfcd",
   "metadata": {},
   "outputs": [
    {
     "name": "stdout",
     "output_type": "stream",
     "text": [
      ".\n",
      "6\n"
     ]
    },
    {
     "data": {
      "text/plain": [
       "'..a...'"
      ]
     },
     "execution_count": 9,
     "metadata": {},
     "output_type": "execute_result"
    }
   ],
   "source": [
    "s = \"......\"\n",
    "# manipulation function\n",
    "s.lower()\n",
    "s.upper()\n",
    "# tokenisation\n",
    "s.split(' ')\n",
    "# substring\n",
    "start = 0\n",
    "end = 1\n",
    "print(s[start:end])\n",
    "# size\n",
    "print(len(s))\n",
    "# strings are immutable and individual character can't be changes\n",
    "# string can be converted to list of char and back to string after changing\n",
    "char_arr = list(s)\n",
    "i = 2\n",
    "char_arr[i] = 'a'\n",
    "s = ''.join(char_arr)\n",
    "s"
   ]
  },
  {
   "cell_type": "markdown",
   "id": "bc40614c",
   "metadata": {},
   "source": [
    "## Sorting\n",
    "\n",
    "list, an iterable of numbers or other complex data structure supports sorting using in-build sort routine.\n",
    "Works for other primitives and complex data structures as well with the help of comparator."
   ]
  },
  {
   "cell_type": "code",
   "execution_count": 17,
   "id": "744cf45b",
   "metadata": {},
   "outputs": [
    {
     "name": "stdout",
     "output_type": "stream",
     "text": [
      "[0, 1, 2, 5, 7]\n"
     ]
    },
    {
     "data": {
      "text/plain": [
       "[0, 1, 2, 5, 7]"
      ]
     },
     "execution_count": 17,
     "metadata": {},
     "output_type": "execute_result"
    }
   ],
   "source": [
    "iterable  = [1,2,5,7,0]\n",
    "\n",
    "# built-in sorted func to sort an iterable\n",
    "res = sorted(iterable, key=lambda x: x)\n",
    "print(res)\n",
    "# sort iterable in place in ascending order\n",
    "iterable.sort()\n",
    "iterable"
   ]
  },
  {
   "cell_type": "markdown",
   "id": "af6fed21",
   "metadata": {},
   "source": [
    "sort with comparator function\n"
   ]
  },
  {
   "cell_type": "code",
   "execution_count": 18,
   "id": "bb2d7e27",
   "metadata": {},
   "outputs": [
    {
     "data": {
      "text/plain": [
       "[0, 1, 2, 5, 7]"
      ]
     },
     "execution_count": 18,
     "metadata": {},
     "output_type": "execute_result"
    }
   ],
   "source": [
    "import functools\n",
    "\n",
    "def compare(item1, item2):\n",
    "    return item1 - item2\n",
    "\n",
    "sorted(iterable, key=functools.cmp_to_key(compare))"
   ]
  },
  {
   "cell_type": "markdown",
   "id": "ebb91847",
   "metadata": {},
   "source": [
    "## Reverse Iterable"
   ]
  },
  {
   "cell_type": "code",
   "execution_count": 25,
   "id": "678aced9",
   "metadata": {},
   "outputs": [
    {
     "name": "stdout",
     "output_type": "stream",
     "text": [
      "[6, 5, 3, 1]\n",
      "[1, 3, 5, 6]\n"
     ]
    },
    {
     "data": {
      "text/plain": [
       "'dcba'"
      ]
     },
     "execution_count": 25,
     "metadata": {},
     "output_type": "execute_result"
    }
   ],
   "source": [
    "iterable = [1,3,5,6]\n",
    "# built-in function in-place\n",
    "iterable.reverse()\n",
    "print(iterable)\n",
    "# returns a reversed list, works on strings (str) too \n",
    "print(iterable[::-1])\n",
    "s = \"abcd\"\n",
    "s[::-1]"
   ]
  },
  {
   "cell_type": "markdown",
   "id": "46495f72",
   "metadata": {},
   "source": [
    "## Map-Reduce"
   ]
  },
  {
   "cell_type": "code",
   "execution_count": 43,
   "id": "d6962e56",
   "metadata": {},
   "outputs": [
    {
     "name": "stdout",
     "output_type": "stream",
     "text": [
      "<class 'map'>\n",
      "[2, 4, 6, 8]\n",
      "(1, 2, 3, 4)\n"
     ]
    }
   ],
   "source": [
    "# map can be used to apply certain function on every list member \n",
    "numbers = (1, 2, 3, 4) \n",
    "result = map(lambda x: x + x, numbers)\n",
    "\n",
    "# it returns an iterator of type map\n",
    "print(type(result))\n",
    "\n",
    "# result can be converted to list before iteraing\n",
    "print(list(result))\n",
    "\n",
    "# original list remains intact\n",
    "print(numbers)"
   ]
  },
  {
   "cell_type": "code",
   "execution_count": 44,
   "id": "481651e1",
   "metadata": {},
   "outputs": [
    {
     "name": "stdout",
     "output_type": "stream",
     "text": [
      "17\n",
      "6\n"
     ]
    }
   ],
   "source": [
    "# reduce a list using some function\n",
    "# importing functools for reduce() \n",
    "import functools \n",
    "\n",
    "lis = [ 1 , 3, 5, 6, 2, ] \n",
    "\n",
    "# sum of list\n",
    "print (functools.reduce(lambda a,b : a+b,lis)) \n",
    "# max element\n",
    "print (functools.reduce(lambda a,b : a if a > b else b,lis))"
   ]
  }
 ],
 "metadata": {
  "kernelspec": {
   "display_name": "Python 3",
   "language": "python",
   "name": "python3"
  },
  "language_info": {
   "codemirror_mode": {
    "name": "ipython",
    "version": 3
   },
   "file_extension": ".py",
   "mimetype": "text/x-python",
   "name": "python",
   "nbconvert_exporter": "python",
   "pygments_lexer": "ipython3",
   "version": "3.8.5"
  }
 },
 "nbformat": 4,
 "nbformat_minor": 5
}
