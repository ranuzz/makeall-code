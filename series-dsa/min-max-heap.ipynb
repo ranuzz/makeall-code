{
 "cells": [
  {
   "cell_type": "markdown",
   "id": "794ff03a",
   "metadata": {},
   "source": [
    "## Heap\n",
    "\n",
    "Heap is a binary tree data structure in which the root is either the smallest or the largest element of the elements in the tree.\n",
    "* Heap acts as a priority queue and as you remove the root element (top priority) the next root becomes the next prioritized element.\n",
    "* Heap is stored as an array where for the `ith` element the left child is `2i+1` and right child is `2i+2`"
   ]
  },
  {
   "cell_type": "code",
   "execution_count": 1,
   "id": "ce856142",
   "metadata": {},
   "outputs": [],
   "source": [
    "heap = []"
   ]
  },
  {
   "cell_type": "markdown",
   "id": "b8f15318",
   "metadata": {},
   "source": [
    "For this discussion I'll be using min-heap."
   ]
  },
  {
   "cell_type": "markdown",
   "id": "7165695e",
   "metadata": {},
   "source": [
    "## Push\n",
    "\n",
    "A new element is added to the heap by appending it to the array and then moving the element upwards until the top element (`0th index`) is again the smallest."
   ]
  },
  {
   "cell_type": "code",
   "execution_count": 3,
   "id": "9bec1815",
   "metadata": {},
   "outputs": [],
   "source": [
    "element = 1\n",
    "heap.append(element)\n",
    "#siftup(heap)"
   ]
  },
  {
   "cell_type": "markdown",
   "id": "f26bea08",
   "metadata": {},
   "source": [
    "## Pop\n",
    "\n",
    "The top element is popped whenever there is a need for the smallest element among the set of elements that got pushed into the heap. To do that the top element is returned and overwritten by the last element of the heap array. The heap array size is then reduced by one and the element is moved downwards until the heap properties are reinstated."
   ]
  },
  {
   "cell_type": "code",
   "execution_count": 5,
   "id": "a149c695",
   "metadata": {},
   "outputs": [
    {
     "data": {
      "text/plain": [
       "1"
      ]
     },
     "execution_count": 5,
     "metadata": {},
     "output_type": "execute_result"
    }
   ],
   "source": [
    "top = heap[0]\n",
    "heap[0] = heap[-1]\n",
    "heap.pop(-1)\n",
    "#siftdown(heap)"
   ]
  },
  {
   "cell_type": "markdown",
   "id": "e5a2b969",
   "metadata": {},
   "source": [
    "## siftup "
   ]
  },
  {
   "cell_type": "code",
   "execution_count": 7,
   "id": "0e355b00",
   "metadata": {},
   "outputs": [],
   "source": [
    "def siftup(heap):\n",
    "    # last element is the child index\n",
    "    c = len(heap)-1\n",
    "    # get the parent index based on\n",
    "    # i -> 2i+1, 2i+2 parent-child rule\n",
    "    p = (c - 1) // 2\n",
    "    # while parent index is valid\n",
    "    while p >= 0:\n",
    "        # compare parent and child element\n",
    "        if heap[p] > heap[c]:\n",
    "            # if parent is bigger than swap\n",
    "            # of sift up the smaller element\n",
    "            heap[p], heap[c] = heap[c], heap[p]\n",
    "        # in any case, parent is the new child\n",
    "        c = p\n",
    "        # get the new parent\n",
    "        p = (c-1) // 2"
   ]
  },
  {
   "cell_type": "markdown",
   "id": "5c405e42",
   "metadata": {},
   "source": [
    "## siftdown"
   ]
  },
  {
   "cell_type": "code",
   "execution_count": 8,
   "id": "9a1942c6",
   "metadata": {},
   "outputs": [],
   "source": [
    "def siftdown(heap):\n",
    "    # start from the top, sifting down\n",
    "    # parent index is 0\n",
    "    p = 0\n",
    "    # while parent index is valid\n",
    "    while p < len(heap):\n",
    "        # get the left child 2i+1\n",
    "        l = 2*p + 1\n",
    "        # get the right child 2i+2\n",
    "        r = 2*p + 2\n",
    "        # find the smallest index among three\n",
    "        # parent, left child, right child\n",
    "        smallest = p\n",
    "        if l < len(heap) and heap[l] < heap[smallest]:\n",
    "            smallest = l\n",
    "        if r < len(heap) and heap[r] < heap[smallest]:\n",
    "            smallest = r\n",
    "        # if the smallest index is not the parent\n",
    "        if smallest != p:\n",
    "            # swap the parent with smallest children\n",
    "            heap[p], heap[smallest] = heap[smallest], heap[p]\n",
    "            # smallest index is the new parent\n",
    "            # keep sifting down\n",
    "            p = smallest\n",
    "        else:\n",
    "            # done the parent is in the right position\n",
    "            # cannot sift down more\n",
    "            break"
   ]
  },
  {
   "cell_type": "markdown",
   "id": "4d9a6bf7",
   "metadata": {},
   "source": [
    "## Run"
   ]
  },
  {
   "cell_type": "code",
   "execution_count": 13,
   "id": "cee1272b",
   "metadata": {},
   "outputs": [
    {
     "name": "stdout",
     "output_type": "stream",
     "text": [
      "0\n",
      "1\n"
     ]
    }
   ],
   "source": [
    "nums = [2,3,5,1,5,6,0,10]\n",
    "for n in nums:\n",
    "    heap.append(n)\n",
    "    siftup(heap)\n",
    "\n",
    "print(heap[0])\n",
    "heap[0] = heap[-1]\n",
    "heap.pop(-1)\n",
    "siftdown(heap)\n",
    "print(heap[0])"
   ]
  },
  {
   "cell_type": "markdown",
   "id": "21707731",
   "metadata": {},
   "source": [
    "## Python Heap Library"
   ]
  },
  {
   "cell_type": "markdown",
   "id": "65ac8d9f",
   "metadata": {},
   "source": [
    "[doc](https://docs.python.org/3/library/heapq.html)"
   ]
  },
  {
   "cell_type": "code",
   "execution_count": 12,
   "id": "c5b44561",
   "metadata": {},
   "outputs": [
    {
     "name": "stdout",
     "output_type": "stream",
     "text": [
      "0\n",
      "1\n"
     ]
    }
   ],
   "source": [
    "import heapq\n",
    "\n",
    "nums = [2,3,5,1,5,6,0,10]\n",
    "\n",
    "# min heap\n",
    "h = []\n",
    "for n in nums:\n",
    "    heapq.heappush(h, n)\n",
    "print(heapq.heappop(h))\n",
    "print(heapq.heappop(h))"
   ]
  }
 ],
 "metadata": {
  "kernelspec": {
   "display_name": "Python 3",
   "language": "python",
   "name": "python3"
  },
  "language_info": {
   "codemirror_mode": {
    "name": "ipython",
    "version": 3
   },
   "file_extension": ".py",
   "mimetype": "text/x-python",
   "name": "python",
   "nbconvert_exporter": "python",
   "pygments_lexer": "ipython3",
   "version": "3.8.5"
  }
 },
 "nbformat": 4,
 "nbformat_minor": 5
}
