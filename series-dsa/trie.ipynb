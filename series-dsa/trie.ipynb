{
 "cells": [
  {
   "cell_type": "markdown",
   "id": "8056b4ce",
   "metadata": {},
   "source": [
    "## Trie\n",
    "\n",
    "Trie, also called prefix tree, is a data structure that stores and retrieves overlapping information in an efficient manner. Mostly used for a set of strings, every leaf node in this tree represents a unique element and the every node in the path path between root to that leaf contains one atomic unit of that element, so in case of string a character."
   ]
  },
  {
   "cell_type": "markdown",
   "id": "1f78cbbd",
   "metadata": {},
   "source": [
    "## Trie Node\n",
    "\n",
    "Every node in the tree needs to hold three kinds of information.\n",
    "\n",
    "* The value of the atomic unit of an element. In case of string a character\n",
    "* List of all the children trie node\n",
    "* In some cases the non-leaf node can represent the element/string as well if one element is the prefix of another. To represent that we need to store whether a non-leaf node represents an element as well.\n",
    "\n",
    "A helper function is required as well to tell whether a unit is part of the node's children `get_child`, the routine will return the child node, if present."
   ]
  },
  {
   "cell_type": "code",
   "execution_count": 17,
   "id": "99636771",
   "metadata": {},
   "outputs": [],
   "source": [
    "class TrieNode:\n",
    "    \n",
    "    def __init__(self, val):\n",
    "        self.val = val\n",
    "        self.children = []\n",
    "        self.isElement = False\n",
    "\n",
    "    def get_child(self, unit):\n",
    "        for node in self.children:\n",
    "            if node.val == unit:\n",
    "                return node\n",
    "        return None\n",
    "    \n",
    "    def __str__(self):\n",
    "        return \"TrieNode(val={0}, isElement={1})\".format(self.val, self.isElement)"
   ]
  },
  {
   "cell_type": "markdown",
   "id": "249a6d21",
   "metadata": {},
   "source": [
    "## Root\n",
    "\n",
    "The root of the trie tree represents the empty element set. Initializing means creating a node that stores nothing `None` and no children."
   ]
  },
  {
   "cell_type": "code",
   "execution_count": 18,
   "id": "c90b7a32",
   "metadata": {},
   "outputs": [],
   "source": [
    "root = TrieNode(None)"
   ]
  },
  {
   "cell_type": "markdown",
   "id": "439427b8",
   "metadata": {},
   "source": [
    "## Insert\n",
    "\n",
    "Adding an element to the tree is pretty straightforward. Starting from the root the steps are to find the prefix of the element which is already in the tree and add the rest of the element as a linked list."
   ]
  },
  {
   "cell_type": "code",
   "execution_count": 19,
   "id": "c1450227",
   "metadata": {},
   "outputs": [],
   "source": [
    "def create_chain(element):\n",
    "    head = None\n",
    "    tail = None\n",
    "    for unit in element:\n",
    "        node = TrieNode(unit)\n",
    "        if head == None:\n",
    "            head = tail = node\n",
    "        else:\n",
    "            tail.children.append(node)\n",
    "            tail = node\n",
    "    tail.isElement = True\n",
    "    return head\n",
    "\n",
    "def insert(element, root):\n",
    "    node = root\n",
    "    for i in range(len(element)):\n",
    "        childnode = node.get_child(element[i])\n",
    "        if childnode:\n",
    "            node = childnode\n",
    "        else:\n",
    "            node.children.append(create_chain(element[i:]))\n",
    "            return\n",
    "    node.isElement = True"
   ]
  },
  {
   "cell_type": "markdown",
   "id": "5a601586",
   "metadata": {},
   "source": [
    "## Search\n",
    "\n",
    "Searching an element involves going from root towards the leaf matching individual units of element. In the end if the algo returns a node then it is present, and if the `isElement` flag is true then it's not just the prefix."
   ]
  },
  {
   "cell_type": "code",
   "execution_count": 20,
   "id": "060c0cc8",
   "metadata": {},
   "outputs": [],
   "source": [
    "def search(element, root):\n",
    "    node = root\n",
    "    for i in range(len(element)):\n",
    "        childnode = node.get_child(element[i])\n",
    "        if childnode:\n",
    "            node = childnode\n",
    "        else:\n",
    "            return None\n",
    "    return node"
   ]
  },
  {
   "cell_type": "markdown",
   "id": "9a431008",
   "metadata": {},
   "source": [
    "## Run"
   ]
  },
  {
   "cell_type": "code",
   "execution_count": 21,
   "id": "ec4d8a98",
   "metadata": {},
   "outputs": [
    {
     "name": "stdout",
     "output_type": "stream",
     "text": [
      "None\n",
      "TrieNode(val=b, isElement=False)\n",
      "TrieNode(val=d, isElement=True)\n"
     ]
    }
   ],
   "source": [
    "words = [\"abc\", \"abcd\", \"xyz\", \"pqrs\", \"mno\", \"mnop\"]\n",
    "for word in words:\n",
    "    insert(word, root)\n",
    "print(search(\"jkl\", root))\n",
    "print(search(\"ab\", root))\n",
    "print(search(\"abcd\", root))"
   ]
  }
 ],
 "metadata": {
  "kernelspec": {
   "display_name": "Python 3",
   "language": "python",
   "name": "python3"
  },
  "language_info": {
   "codemirror_mode": {
    "name": "ipython",
    "version": 3
   },
   "file_extension": ".py",
   "mimetype": "text/x-python",
   "name": "python",
   "nbconvert_exporter": "python",
   "pygments_lexer": "ipython3",
   "version": "3.8.5"
  }
 },
 "nbformat": 4,
 "nbformat_minor": 5
}
