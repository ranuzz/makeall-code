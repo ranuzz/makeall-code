{
 "cells": [
  {
   "cell_type": "markdown",
   "id": "5ca4c32c",
   "metadata": {},
   "source": [
    "# Binary Search"
   ]
  },
  {
   "cell_type": "markdown",
   "id": "d2a82202",
   "metadata": {},
   "source": [
    "* Improvement over linear search\n",
    "* Linear search takes O(n)\n",
    "* Binary search takes O(logn) as it divides the sample (or input) into halves every iteration"
   ]
  },
  {
   "cell_type": "markdown",
   "id": "cd3dabb5",
   "metadata": {},
   "source": [
    "## Recursive Approach"
   ]
  },
  {
   "cell_type": "code",
   "execution_count": 1,
   "id": "ff064d52",
   "metadata": {},
   "outputs": [],
   "source": [
    "def bs_recursive(arr, lo, hi, target):\n",
    "    # couldn't find the number\n",
    "    # return the index where the number\n",
    "    # should have been (if inserted) \n",
    "    if not lo <= hi:\n",
    "        return lo\n",
    "\n",
    "    # bisect the array\n",
    "    mid = (lo + hi) // 2\n",
    "    if arr[mid] == target:\n",
    "        # found it\n",
    "        return mid\n",
    "    \n",
    "    if arr[mid] < target:\n",
    "        # number is in the higher section\n",
    "        return bs_recursive(arr, mid+1, hi, target)\n",
    "    else:\n",
    "        # numbde is in the lower section\n",
    "        return bs_recursive(arr, lo, mid-1, target)"
   ]
  },
  {
   "cell_type": "markdown",
   "id": "4e49d9e4",
   "metadata": {},
   "source": [
    "## Iterative Approach"
   ]
  },
  {
   "cell_type": "code",
   "execution_count": 3,
   "id": "ec08a601",
   "metadata": {},
   "outputs": [],
   "source": [
    "def bs_iterative(arr, target):\n",
    "    lo = 0\n",
    "    hi = len(arr)-1\n",
    "\n",
    "    while lo <= hi:\n",
    "        mid = (lo + hi) // 2\n",
    "        if arr[mid] == target:\n",
    "            return mid\n",
    "        if arr[mid] < target:\n",
    "            lo = mid+1\n",
    "        else:\n",
    "            hi = mid-1\n",
    "    return lo"
   ]
  },
  {
   "cell_type": "markdown",
   "id": "3d0cb677",
   "metadata": {},
   "source": [
    "## Test Run"
   ]
  },
  {
   "cell_type": "code",
   "execution_count": 4,
   "id": "ab4cad6f",
   "metadata": {},
   "outputs": [
    {
     "name": "stdout",
     "output_type": "stream",
     "text": [
      "2\n",
      "2\n"
     ]
    }
   ],
   "source": [
    "nums = [1,3,5,6]\n",
    "target = 5\n",
    "\n",
    "print(bs_recursive(nums, 0, len(nums)-1, target))\n",
    "print(bs_iterative(nums, target))"
   ]
  }
 ],
 "metadata": {
  "kernelspec": {
   "display_name": "Python 3",
   "language": "python",
   "name": "python3"
  },
  "language_info": {
   "codemirror_mode": {
    "name": "ipython",
    "version": 3
   },
   "file_extension": ".py",
   "mimetype": "text/x-python",
   "name": "python",
   "nbconvert_exporter": "python",
   "pygments_lexer": "ipython3",
   "version": "3.8.5"
  }
 },
 "nbformat": 4,
 "nbformat_minor": 5
}
