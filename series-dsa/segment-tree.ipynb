{
 "cells": [
  {
   "cell_type": "markdown",
   "id": "6e50d73e",
   "metadata": {},
   "source": [
    "## Segment Tree\n",
    "\n",
    "* A binary tree that represents a list of elements\n",
    "* Leaf of this tree, (or in some cases the lowest level of the tree), represents this list\n",
    "* Every node in this tree contains some information aggregated over node's children\n",
    "    * Like Sum, Average, Min, Max etc\n",
    "\n",
    "For this discussion I'll use a list of number as an example `[3,8,6,4,2,5,9,0,7,1]` and the information that nodes will store is going to be the smallest number among node's children `\"minimum\"`"
   ]
  },
  {
   "cell_type": "markdown",
   "id": "075fd598",
   "metadata": {},
   "source": [
    "## Creating the Tree\n",
    "\n",
    "Usually the segment tree is constructed as an array. Being a binary tree the `ith` node has its children at `2*i+1` and `2*i+2`.\n",
    "\n",
    "First step in creating the tree is allocating an array big enough to store all potential nodes. Since, the input array becomes the leaf of this tree and it's easier to calculate the number of nodes required if you know a few basic properties of a binary tree.\n"
   ]
  },
  {
   "cell_type": "markdown",
   "id": "7ecbfbf9",
   "metadata": {},
   "source": [
    "### Steps"
   ]
  },
  {
   "cell_type": "markdown",
   "id": "adab73cc",
   "metadata": {},
   "source": [
    "* Calculate the length of input sequence `[3,8,6,4,2,5,9,0,7,1]`"
   ]
  },
  {
   "cell_type": "code",
   "execution_count": 1,
   "id": "c31f3741",
   "metadata": {},
   "outputs": [],
   "source": [
    "arr = [3,8,6,4,2,5,9,0,7,1]\n",
    "N = len(arr)"
   ]
  },
  {
   "cell_type": "markdown",
   "id": "ab9ff9bf",
   "metadata": {},
   "source": [
    "* If size of array is not a power of `2` pad the array with placeholder to make it so. This makes the segment tree node calculation easier and makes the final tree balances as well."
   ]
  },
  {
   "cell_type": "code",
   "execution_count": 5,
   "id": "c3c2128c",
   "metadata": {},
   "outputs": [],
   "source": [
    "import math\n",
    "k = math.ceil(math.log(N, 2))\n",
    "while len(arr) < pow(2, k):\n",
    "    arr.append(math.inf)"
   ]
  },
  {
   "cell_type": "markdown",
   "id": "8a10c868",
   "metadata": {},
   "source": [
    "* Now that we know the number of leaf element the total number of nodes can be calculates as `2^(k+1)`"
   ]
  },
  {
   "cell_type": "code",
   "execution_count": 8,
   "id": "4a7d0e48",
   "metadata": {},
   "outputs": [],
   "source": [
    "node_count = pow(2, k+1)"
   ]
  },
  {
   "cell_type": "markdown",
   "id": "5790546a",
   "metadata": {},
   "source": [
    "* Initialize the array with placeholders and that is our segment tree without any elements"
   ]
  },
  {
   "cell_type": "code",
   "execution_count": 9,
   "id": "69075081",
   "metadata": {},
   "outputs": [],
   "source": [
    "segment_tree = [math.inf]*node_count"
   ]
  },
  {
   "cell_type": "markdown",
   "id": "12bec8d5",
   "metadata": {},
   "source": [
    "## Building the Tree\n",
    "\n",
    "* Tree is built recursively \n",
    "* Each recursion works on a range of input array elements\n",
    "* Every iteration of this recursion populates one index in the segment tree and return its value\n",
    "* If the range denotes only one element, i.e. the leaf of the segment tree then the input array value is put there\n",
    "* Otherwise the recursion partitions the range and merge the result from left and right recursion tree"
   ]
  },
  {
   "cell_type": "code",
   "execution_count": 7,
   "id": "8683fc98",
   "metadata": {},
   "outputs": [],
   "source": [
    "def build_tree(tree, arr, tree_index, lo, hi):\n",
    "    if (lo == hi):\n",
    "        # leaf node, save the array element\n",
    "        # this is the smallest number\n",
    "        tree[tree_index] = arr[lo]\n",
    "        return tree[tree_index]\n",
    "\n",
    "    left_inx = 2*tree_index+1\n",
    "    right_inx = 2*tree_index+2\n",
    "    mid = (lo + hi) // 2\n",
    "    left = build_tree(tree, arr, left_inx, lo, mid)\n",
    "    right = build_tree(tree, arr, right_inx, mid+1, hi)\n",
    "\n",
    "    # merge the result\n",
    "    tree[tree_index] = min(left, right)\n",
    "    return tree[tree_index]"
   ]
  },
  {
   "cell_type": "code",
   "execution_count": 10,
   "id": "ec82f493",
   "metadata": {},
   "outputs": [
    {
     "data": {
      "text/plain": [
       "[0,\n",
       " 0,\n",
       " 1,\n",
       " 3,\n",
       " 0,\n",
       " 1,\n",
       " inf,\n",
       " 3,\n",
       " 4,\n",
       " 2,\n",
       " 0,\n",
       " 1,\n",
       " inf,\n",
       " inf,\n",
       " inf,\n",
       " 3,\n",
       " 8,\n",
       " 6,\n",
       " 4,\n",
       " 2,\n",
       " 5,\n",
       " 9,\n",
       " 0,\n",
       " 7,\n",
       " 1,\n",
       " inf,\n",
       " inf,\n",
       " inf,\n",
       " inf,\n",
       " inf,\n",
       " inf,\n",
       " inf]"
      ]
     },
     "execution_count": 10,
     "metadata": {},
     "output_type": "execute_result"
    }
   ],
   "source": [
    "build_tree(segment_tree, arr, 0, 0, len(arr)-1)\n",
    "segment_tree"
   ]
  },
  {
   "cell_type": "markdown",
   "id": "54f1f8ac",
   "metadata": {},
   "source": [
    "## Range Query\n",
    "\n",
    "Given the current example, the queries will be regarding getting the minimum number in a range. The answer is found by traversing the segment tree recursively and locating the range in question and reading the result from the node. The recursive routine takes the range in query and the current segment tree node which also represents the range of input array it holds. There could be three cases.\n",
    "* If the range query is disjoint with the current range then return placeholder.\n",
    "* If the range query is completely within the current range then return the value in the segment tree node.\n",
    "* If the range query is completely in the left subtree of current node then recursively query left tree\n",
    "* If the range query is completely in the right subtree of current node then recursively query right tree\n",
    "* If there is an overlap then query both and return the minimum.\n"
   ]
  },
  {
   "cell_type": "code",
   "execution_count": 11,
   "id": "b8093ac6",
   "metadata": {},
   "outputs": [
    {
     "name": "stdout",
     "output_type": "stream",
     "text": [
      "[0, n-1] 0\n",
      "[0, 1] 3\n",
      "[2, 6] 2\n"
     ]
    }
   ],
   "source": [
    "def query(tree, tree_index, lo, hi, i, j):\n",
    "    # print(tree_index, lo, hi, i, j)\n",
    "    if (lo > j or hi < i): # disjoint\n",
    "        return math.inf\n",
    "    if (i <= lo and j >= hi): # completely inside\n",
    "        # print(tree_index, lo, hi, i, j)\n",
    "        return tree[tree_index]\n",
    "    \n",
    "    left_inx = 2*tree_index+1\n",
    "    right_inx = 2*tree_index+2\n",
    "    mid = (lo + hi) // 2\n",
    "\n",
    "    if i >= mid+1:\n",
    "        # completely in right half\n",
    "        return query(tree, right_inx, mid+1, hi, i, j)\n",
    "    elif j <= mid:\n",
    "        # completely in left half\n",
    "        return query(tree, left_inx, lo, mid, i, j)\n",
    "\n",
    "    # in case of overlap\n",
    "    left = query(tree, left_inx, lo, mid, i, j)\n",
    "    right = query(tree, right_inx, mid+1, hi, i, j)\n",
    "\n",
    "    return min(left, right)\n",
    "\n",
    "print(\"[0, n-1]\", query(segment_tree, 0, 0, len(arr)-1, 0, len(arr)-1))\n",
    "print(\"[0, 1]\", query(segment_tree, 0, 0, len(arr)-1, 0, 1))\n",
    "print(\"[2, 6]\", query(segment_tree, 0, 0, len(arr)-1, 2, 6))"
   ]
  },
  {
   "cell_type": "markdown",
   "id": "ff6f1449",
   "metadata": {},
   "source": [
    "## Updating the Tree\n",
    "\n",
    "In case the input array changes the segment tree should get updated as well. This is done recursively as well by traversing the path from the leaf to root of the segment tree."
   ]
  },
  {
   "cell_type": "code",
   "execution_count": 13,
   "id": "7806dada",
   "metadata": {},
   "outputs": [
    {
     "name": "stdout",
     "output_type": "stream",
     "text": [
      "[2, 6] 1\n"
     ]
    }
   ],
   "source": [
    "def update(tree, tree_index, lo, hi, arr_index, val):\n",
    "    if (lo == hi):\n",
    "        # Update the leaf\n",
    "        tree[tree_index] = val\n",
    "        return val\n",
    "    \n",
    "    left_inx = 2*tree_index+1\n",
    "    right_inx = 2*tree_index+2\n",
    "    mid = (lo + hi) // 2\n",
    "\n",
    "    if arr_index >= mid+1:\n",
    "        # in right half\n",
    "        ch = update(tree, right_inx, mid+1, hi, arr_index, val)\n",
    "    elif arr_index <= mid:\n",
    "        # in left half\n",
    "        ch = update(tree, left_inx, lo, mid, arr_index, val)\n",
    "\n",
    "    tree[tree_index] = min(tree[tree_index], ch)\n",
    "    return tree[tree_index]\n",
    "\n",
    "arr[5] = 1\n",
    "update(segment_tree, 0, 0, len(arr)-1, 5, 1)\n",
    "print(\"[2, 6]\", query(segment_tree, 0, 0, len(arr)-1, 2, 6))"
   ]
  }
 ],
 "metadata": {
  "kernelspec": {
   "display_name": "Python 3",
   "language": "python",
   "name": "python3"
  },
  "language_info": {
   "codemirror_mode": {
    "name": "ipython",
    "version": 3
   },
   "file_extension": ".py",
   "mimetype": "text/x-python",
   "name": "python",
   "nbconvert_exporter": "python",
   "pygments_lexer": "ipython3",
   "version": "3.8.5"
  }
 },
 "nbformat": 4,
 "nbformat_minor": 5
}
