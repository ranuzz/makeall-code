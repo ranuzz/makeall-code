{
 "cells": [
  {
   "cell_type": "markdown",
   "id": "e61b8692",
   "metadata": {},
   "source": [
    "## Basic Data Structures\n",
    "\n",
    "Any algorithm needs a way to represent data while working on a problem. How data is represented is important since it could mean how costly read and write operations are in terms of time complexity."
   ]
  },
  {
   "cell_type": "markdown",
   "id": "b07b8ae2",
   "metadata": {},
   "source": [
    "## Primitives\n",
    "\n",
    "These are programming language's built-in data structure that support basic relevant operations. In `python` four basic primitives are `int`, `float`, `bool` and `str`. `type(variable)` can be used to get the type of any variable in Python."
   ]
  },
  {
   "cell_type": "markdown",
   "id": "8196d7c5",
   "metadata": {},
   "source": [
    "## List\n",
    "\n",
    "List in Python are very powerful and generic data structures. Wherever there is a need for an `Array`, `Matrix`, `Queue` or `Stack` a `list` can be used."
   ]
  },
  {
   "cell_type": "markdown",
   "id": "adcd3209",
   "metadata": {},
   "source": [
    "### Array"
   ]
  },
  {
   "cell_type": "code",
   "execution_count": 2,
   "id": "ee4c3b51",
   "metadata": {},
   "outputs": [
    {
     "name": "stdout",
     "output_type": "stream",
     "text": [
      "0\n",
      "1\n"
     ]
    }
   ],
   "source": [
    "arr = [0]*10 # integer array of size 10 initialized with 0\n",
    "\n",
    "i = 0 # index ranging from 0-9\n",
    "\n",
    "# read\n",
    "val = arr[i]\n",
    "print(val)\n",
    "\n",
    "# write\n",
    "arr[i] = 1\n",
    "print(arr[i])"
   ]
  },
  {
   "cell_type": "markdown",
   "id": "7228a597",
   "metadata": {},
   "source": [
    "## Matrix"
   ]
  },
  {
   "cell_type": "code",
   "execution_count": 3,
   "id": "0df3f0d4",
   "metadata": {},
   "outputs": [
    {
     "name": "stdout",
     "output_type": "stream",
     "text": [
      "0\n",
      "10\n"
     ]
    }
   ],
   "source": [
    "# Initializing a matrix\n",
    "rows = 4\n",
    "cols = 3\n",
    "matrix = [[0 for c in range(cols)] for r in range(rows)]\n",
    "\n",
    "# read\n",
    "print(matrix[0][0])\n",
    "# write\n",
    "matrix[0][0] = 10\n",
    "print(matrix[0][0])"
   ]
  },
  {
   "cell_type": "markdown",
   "id": "3c9dc2a4",
   "metadata": {},
   "source": [
    "### Stack"
   ]
  },
  {
   "cell_type": "code",
   "execution_count": 6,
   "id": "7a5120b6",
   "metadata": {},
   "outputs": [
    {
     "data": {
      "text/plain": [
       "1"
      ]
     },
     "execution_count": 6,
     "metadata": {},
     "output_type": "execute_result"
    }
   ],
   "source": [
    "# list can be used as stack\n",
    "stack = []\n",
    "# Push\n",
    "stack.append(1)\n",
    "stack.append(2)\n",
    "# Pop\n",
    "stack.pop(-1)\n",
    "# isEmpty\n",
    "len(stack) == 0\n",
    "# Peek (Top Element)\n",
    "stack[-1]"
   ]
  },
  {
   "cell_type": "markdown",
   "id": "70c613d0",
   "metadata": {},
   "source": [
    "### Queue"
   ]
  },
  {
   "cell_type": "code",
   "execution_count": 7,
   "id": "97fbe23b",
   "metadata": {},
   "outputs": [
    {
     "data": {
      "text/plain": [
       "1"
      ]
     },
     "execution_count": 7,
     "metadata": {},
     "output_type": "execute_result"
    }
   ],
   "source": [
    "# list can be used as FIFO queue\n",
    "queue = []\n",
    "# Push\n",
    "queue.append(1)\n",
    "# Pop\n",
    "queue.pop(0)"
   ]
  },
  {
   "cell_type": "markdown",
   "id": "d92fd5b3",
   "metadata": {},
   "source": [
    "## Dictionary"
   ]
  },
  {
   "cell_type": "code",
   "execution_count": 8,
   "id": "84866363",
   "metadata": {},
   "outputs": [
    {
     "name": "stdout",
     "output_type": "stream",
     "text": [
      "True\n",
      "1 10\n"
     ]
    }
   ],
   "source": [
    "# dictionaries in python can be used as map\n",
    "m = {}\n",
    "key = 1\n",
    "value = 10\n",
    "m[key] = value\n",
    "# check if key is present\n",
    "print(key in m)\n",
    "# traverse map\n",
    "for key, value in m.items():\n",
    "    print(key, value)"
   ]
  },
  {
   "cell_type": "markdown",
   "id": "63255723",
   "metadata": {},
   "source": [
    "## Set"
   ]
  },
  {
   "cell_type": "code",
   "execution_count": 9,
   "id": "4f1caf7e",
   "metadata": {},
   "outputs": [
    {
     "name": "stdout",
     "output_type": "stream",
     "text": [
      "{1, 2}\n"
     ]
    }
   ],
   "source": [
    "s = set()\n",
    "s.add(1)\n",
    "s.add(2)\n",
    "s.add(2)\n",
    "s.add(1)\n",
    "print(s)"
   ]
  }
 ],
 "metadata": {
  "kernelspec": {
   "display_name": "Python 3",
   "language": "python",
   "name": "python3"
  },
  "language_info": {
   "codemirror_mode": {
    "name": "ipython",
    "version": 3
   },
   "file_extension": ".py",
   "mimetype": "text/x-python",
   "name": "python",
   "nbconvert_exporter": "python",
   "pygments_lexer": "ipython3",
   "version": "3.8.5"
  }
 },
 "nbformat": 4,
 "nbformat_minor": 5
}
