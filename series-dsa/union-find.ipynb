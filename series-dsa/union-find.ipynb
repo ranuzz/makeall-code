{
 "cells": [
  {
   "cell_type": "markdown",
   "id": "95974f93",
   "metadata": {},
   "source": [
    "## Union Find\n",
    "\n",
    "Given a batch of elements and their relationship, Union-Find provides a way to answer whether two elements are part of the same set or not. For example, Given a batch of vertices and list of edges, answer whether there is a path between two vertices."
   ]
  },
  {
   "cell_type": "markdown",
   "id": "7b0451d4",
   "metadata": {},
   "source": [
    "## Initialize\n",
    "\n",
    "Once, reducing a problem to Union-Find, the first thing to recognise is size of the batch of elements. This will be used to initialize the helper data structure to keep track of element relationships and the size of each disjoint set. If the batch of elements are not numbers then it is convenient to enumerate them and assign an index to each of them."
   ]
  },
  {
   "cell_type": "code",
   "execution_count": 1,
   "id": "d021d8d4",
   "metadata": {},
   "outputs": [],
   "source": [
    "# initialise(batchSize)\n",
    "batchSize = 100\n",
    "# Every element is at least related to itself\n",
    "# that is, part of a single element set\n",
    "relationships = [i for i in range(batchSize)]\n",
    "# Therefore, there are #batchSize disjoint sets\n",
    "# each of size one\n",
    "setSizes = [1]*batchSize"
   ]
  },
  {
   "cell_type": "markdown",
   "id": "64917e59",
   "metadata": {},
   "source": [
    "\n",
    "## Finding root\n",
    "\n",
    "`relationship` is used to query the root of an element at an index `i`."
   ]
  },
  {
   "cell_type": "code",
   "execution_count": 2,
   "id": "a6098dba",
   "metadata": {},
   "outputs": [],
   "source": [
    "def findroot(index):\n",
    "    while relationships[index] != index:\n",
    "        # make every other node in path\n",
    "        # point to its grandparent, to make\n",
    "        # lookup easier in future\n",
    "        relationships[index] = relationships[relationships[index]]\n",
    "        index = relationships[index]\n",
    "    return index"
   ]
  },
  {
   "cell_type": "markdown",
   "id": "f5082eed",
   "metadata": {},
   "source": [
    "Once we have that capability it is trivial to check whether two elements belong to the same set."
   ]
  },
  {
   "cell_type": "code",
   "execution_count": 4,
   "id": "8a7f880b",
   "metadata": {},
   "outputs": [],
   "source": [
    "def find(self, x, y):\n",
    "    return findroot(x) == findroot(y)"
   ]
  },
  {
   "cell_type": "markdown",
   "id": "c207aec1",
   "metadata": {},
   "source": [
    "## Union\n",
    "\n",
    "Before querying the data structure we need to add all the relationship information into it. For that, we will define a `union` routine that takes two elements which are related and stores that information in an efficient manner using `relationships` and `setSizes` array."
   ]
  },
  {
   "cell_type": "code",
   "execution_count": 5,
   "id": "6b212050",
   "metadata": {},
   "outputs": [],
   "source": [
    "def union(x, y):\n",
    "    rootx = findroot(x)\n",
    "    rooty = findroot(y)\n",
    "    if rootx == rooty:\n",
    "        # already in the same tree/set\n",
    "        return\n",
    "    # while merging check the set which is larger\n",
    "    # and merge the smaller one into it\n",
    "    if setSizes[rootx] >= setSizes[rooty]:\n",
    "        relationships[rooty] = rootx\n",
    "        setSizes[rootx] += setSizes[rooty]\n",
    "    else:\n",
    "        relationships[rootx] = rooty\n",
    "        setSizes[rooty] += setSizes[rootx]"
   ]
  },
  {
   "cell_type": "markdown",
   "id": "01e04ecf",
   "metadata": {},
   "source": [
    "## Test run\n",
    "\n",
    "Given a batch size of ten."
   ]
  },
  {
   "cell_type": "code",
   "execution_count": 7,
   "id": "f375c514",
   "metadata": {},
   "outputs": [],
   "source": [
    "batchSize = 10\n",
    "relationships = [i for i in range(batchSize)]\n",
    "setSizes = [1]*batchSize"
   ]
  },
  {
   "cell_type": "markdown",
   "id": "b08f8da4",
   "metadata": {},
   "source": [
    "and a set of bidirectional relations."
   ]
  },
  {
   "cell_type": "code",
   "execution_count": 8,
   "id": "377ed22c",
   "metadata": {},
   "outputs": [],
   "source": [
    "relations = [\n",
    "        (3, 4),\n",
    "        (4, 9),\n",
    "        (8, 0),\n",
    "        (2, 3),\n",
    "        (5, 6),\n",
    "        (5, 9),\n",
    "        (7, 3),\n",
    "        (4, 8),\n",
    "        (6, 1)\n",
    "    ]"
   ]
  },
  {
   "cell_type": "markdown",
   "id": "c0c3a013",
   "metadata": {},
   "source": [
    "We can construct the union find data structure\n"
   ]
  },
  {
   "cell_type": "code",
   "execution_count": 9,
   "id": "a5f6d162",
   "metadata": {},
   "outputs": [],
   "source": [
    "for r in relations:\n",
    "    union(r[0], r[1])"
   ]
  },
  {
   "cell_type": "markdown",
   "id": "0688ae2c",
   "metadata": {},
   "source": [
    "Once built we can simply check if any two elements are in the same set\n"
   ]
  },
  {
   "cell_type": "code",
   "execution_count": 10,
   "id": "a7d072b1",
   "metadata": {},
   "outputs": [
    {
     "name": "stdout",
     "output_type": "stream",
     "text": [
      "True\n"
     ]
    }
   ],
   "source": [
    "print(findroot(1) == findroot(2))"
   ]
  },
  {
   "cell_type": "markdown",
   "id": "445ac963",
   "metadata": {},
   "source": [
    "We can also check how many disjoint sets are in this data structure."
   ]
  },
  {
   "cell_type": "code",
   "execution_count": 12,
   "id": "98e0bac0",
   "metadata": {},
   "outputs": [
    {
     "name": "stdout",
     "output_type": "stream",
     "text": [
      "1\n"
     ]
    }
   ],
   "source": [
    "uniqueSets = set()\n",
    "for i in range(10):\n",
    "    uniqueSets.add(findroot(i))\n",
    "print(len(uniqueSets))"
   ]
  }
 ],
 "metadata": {
  "kernelspec": {
   "display_name": "Python 3",
   "language": "python",
   "name": "python3"
  },
  "language_info": {
   "codemirror_mode": {
    "name": "ipython",
    "version": 3
   },
   "file_extension": ".py",
   "mimetype": "text/x-python",
   "name": "python",
   "nbconvert_exporter": "python",
   "pygments_lexer": "ipython3",
   "version": "3.8.5"
  }
 },
 "nbformat": 4,
 "nbformat_minor": 5
}
